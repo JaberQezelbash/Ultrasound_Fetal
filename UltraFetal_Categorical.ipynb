{
 "cells": [
  {
   "cell_type": "markdown",
   "id": "67ab8e25-c9be-43f1-bcef-081904c9d2b3",
   "metadata": {},
   "source": [
    "* Ultrasound Fetal Images: Categorical"
   ]
  },
  {
   "cell_type": "code",
   "execution_count": null,
   "id": "be3a68e1-1388-4a37-ac5c-4c0582af4186",
   "metadata": {},
   "outputs": [],
   "source": []
  },
  {
   "cell_type": "code",
   "execution_count": null,
   "id": "51e5c587-515e-49f5-b74d-094dbe302e6e",
   "metadata": {},
   "outputs": [],
   "source": []
  },
  {
   "cell_type": "code",
   "execution_count": null,
   "id": "df2ec6fb-88ce-4c3d-afee-e78641c99094",
   "metadata": {},
   "outputs": [],
   "source": []
  }
 ],
 "metadata": {
  "kernelspec": {
   "display_name": "Python 3 (ipykernel)",
   "language": "python",
   "name": "python3"
  },
  "language_info": {
   "codemirror_mode": {
    "name": "ipython",
    "version": 3
   },
   "file_extension": ".py",
   "mimetype": "text/x-python",
   "name": "python",
   "nbconvert_exporter": "python",
   "pygments_lexer": "ipython3",
   "version": "3.11.7"
  }
 },
 "nbformat": 4,
 "nbformat_minor": 5
}
